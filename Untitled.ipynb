{
 "cells": [
  {
   "cell_type": "code",
   "execution_count": 1,
   "id": "0d2ce8b2",
   "metadata": {},
   "outputs": [],
   "source": [
    "import tensorflow as tf\n",
    "import loss.custom_loss as scoreMap_loss\n",
    "import siameFC.SiameFC as siameFc\n",
    "import matplotlib.pyplot as plt\n",
    "import pandas as pd\n",
    "import numpy as np\n",
    "import warnings\n",
    "warnings.simplefilter(action='ignore', category=Warning)\n",
    "\n",
    "from data_processing.data import make_label, load_images"
   ]
  },
  {
   "cell_type": "code",
   "execution_count": 2,
   "id": "b375b1c3",
   "metadata": {},
   "outputs": [],
   "source": [
    "Z_SHAPE = (127, 127, 3)\n",
    "X_SHAPE = (255, 255, 3)\n",
    "LABEL = (17, 17, 1)\n",
    "\n",
    "x_dir = \"./sample/\"\n",
    "z_dir = \"./sample/\"\n",
    "x_images = load_images(x_dir, 255, 0, \".x.jpg\", normalize_images=True)\n",
    "z_images = load_images(z_dir, 127, 0, \".z.jpg\", normalize_images=True)"
   ]
  },
  {
   "cell_type": "code",
   "execution_count": 3,
   "id": "b942d3be",
   "metadata": {},
   "outputs": [
    {
     "name": "stdout",
     "output_type": "stream",
     "text": [
      "WARNING:tensorflow:From C:\\Users\\snagho_Ha\\anaconda3\\envs\\MI-333\\lib\\site-packages\\tensorflow\\python\\util\\deprecation.py:629: calling map_fn_v2 (from tensorflow.python.ops.map_fn) with dtype is deprecated and will be removed in a future version.\n",
      "Instructions for updating:\n",
      "Use fn_output_signature instead\n"
     ]
    }
   ],
   "source": [
    "# params\n",
    "positive_label_pixel_radius = 16 # distance from center of target patch still considered a 'positive' match\n",
    "\n",
    "response_size = 17\n",
    "response_stride = 6.0\n",
    "\n",
    "data_size = 1\n",
    "\n",
    "label = make_label(response_size, positive_label_pixel_radius / response_stride)\n",
    "labels = np.empty((data_size,) + label.shape)\n",
    "labels[:] = label\n",
    "\n",
    "\n",
    "model = siameFc.siameFc_model(X_SHAPE,Z_SHAPE)\n",
    "\n",
    "\n"
   ]
  },
  {
   "cell_type": "code",
   "execution_count": 4,
   "id": "aeac65be",
   "metadata": {},
   "outputs": [
    {
     "name": "stdout",
     "output_type": "stream",
     "text": [
      "Model: \"model\"\n",
      "__________________________________________________________________________________________________\n",
      " Layer (type)                   Output Shape         Param #     Connected to                     \n",
      "==================================================================================================\n",
      " input_2 (InputLayer)           [(None, 255, 255, 3  0           []                               \n",
      "                                )]                                                                \n",
      "                                                                                                  \n",
      " input_1 (InputLayer)           [(None, 127, 127, 3  0           []                               \n",
      "                                )]                                                                \n",
      "                                                                                                  \n",
      " conv2d (Conv2D)                multiple             17472       ['input_1[0][0]',                \n",
      "                                                                  'input_2[0][0]']                \n",
      "                                                                                                  \n",
      " batch_normalization (BatchNorm  multiple            192         ['conv2d[0][0]',                 \n",
      " alization)                                                       'conv2d[1][0]']                 \n",
      "                                                                                                  \n",
      " max_pooling2d (MaxPooling2D)   multiple             0           ['batch_normalization[0][0]',    \n",
      "                                                                  'batch_normalization[1][0]']    \n",
      "                                                                                                  \n",
      " conv2d_1 (Conv2D)              multiple             153728      ['max_pooling2d[0][0]',          \n",
      "                                                                  'max_pooling2d[1][0]']          \n",
      "                                                                                                  \n",
      " batch_normalization_1 (BatchNo  multiple            512         ['conv2d_1[0][0]',               \n",
      " rmalization)                                                     'conv2d_1[1][0]']               \n",
      "                                                                                                  \n",
      " max_pooling2d_1 (MaxPooling2D)  multiple            0           ['batch_normalization_1[0][0]',  \n",
      "                                                                  'batch_normalization_1[1][0]']  \n",
      "                                                                                                  \n",
      " conv2d_2 (Conv2D)              multiple             55344       ['max_pooling2d_1[0][0]',        \n",
      "                                                                  'max_pooling2d_1[1][0]']        \n",
      "                                                                                                  \n",
      " batch_normalization_2 (BatchNo  multiple            192         ['conv2d_2[0][0]',               \n",
      " rmalization)                                                     'conv2d_2[1][0]']               \n",
      "                                                                                                  \n",
      " conv2d_3 (Conv2D)              multiple             20784       ['batch_normalization_2[0][0]',  \n",
      "                                                                  'batch_normalization_2[1][0]']  \n",
      "                                                                                                  \n",
      " batch_normalization_3 (BatchNo  multiple            192         ['conv2d_3[0][0]',               \n",
      " rmalization)                                                     'conv2d_3[1][0]']               \n",
      "                                                                                                  \n",
      " conv2d_4 (Conv2D)              multiple             13856       ['batch_normalization_3[0][0]',  \n",
      "                                                                  'batch_normalization_3[1][0]']  \n",
      "                                                                                                  \n",
      " lambda (Lambda)                (None, 17, 17)       0           ['conv2d_4[1][0]',               \n",
      "                                                                  'conv2d_4[0][0]']               \n",
      "                                                                                                  \n",
      "==================================================================================================\n",
      "Total params: 262,272\n",
      "Trainable params: 261,728\n",
      "Non-trainable params: 544\n",
      "__________________________________________________________________________________________________\n",
      "None\n"
     ]
    }
   ],
   "source": [
    "print(model.summary())"
   ]
  },
  {
   "cell_type": "code",
   "execution_count": 5,
   "id": "cc3bfc8a",
   "metadata": {},
   "outputs": [
    {
     "ename": "ValueError",
     "evalue": "Data cardinality is ambiguous:\n  x sizes: 0, 0\n  y sizes: 1\nMake sure all arrays contain the same number of samples.",
     "output_type": "error",
     "traceback": [
      "\u001b[1;31m---------------------------------------------------------------------------\u001b[0m",
      "\u001b[1;31mValueError\u001b[0m                                Traceback (most recent call last)",
      "Cell \u001b[1;32mIn[5], line 10\u001b[0m\n\u001b[0;32m      8\u001b[0m batch_size \u001b[38;5;241m=\u001b[39m \u001b[38;5;241m1\u001b[39m\n\u001b[0;32m      9\u001b[0m epochs \u001b[38;5;241m=\u001b[39m \u001b[38;5;241m1\u001b[39m\n\u001b[1;32m---> 10\u001b[0m \u001b[43mmodel\u001b[49m\u001b[38;5;241;43m.\u001b[39;49m\u001b[43mfit\u001b[49m\u001b[43m(\u001b[49m\u001b[43m[\u001b[49m\u001b[43mx_images\u001b[49m\u001b[43m,\u001b[49m\u001b[43m \u001b[49m\u001b[43mz_images\u001b[49m\u001b[43m]\u001b[49m\u001b[43m,\u001b[49m\u001b[43m \u001b[49m\u001b[43m[\u001b[49m\u001b[43mlabels\u001b[49m\u001b[43m]\u001b[49m\u001b[43m,\u001b[49m\u001b[43m \u001b[49m\u001b[43mbatch_size\u001b[49m\u001b[38;5;241;43m=\u001b[39;49m\u001b[43mbatch_size\u001b[49m\u001b[43m,\u001b[49m\u001b[43m \u001b[49m\u001b[43mepochs\u001b[49m\u001b[38;5;241;43m=\u001b[39;49m\u001b[43mepochs\u001b[49m\u001b[43m)\u001b[49m\n",
      "File \u001b[1;32m~\\anaconda3\\envs\\MI-333\\lib\\site-packages\\keras\\utils\\traceback_utils.py:70\u001b[0m, in \u001b[0;36mfilter_traceback.<locals>.error_handler\u001b[1;34m(*args, **kwargs)\u001b[0m\n\u001b[0;32m     67\u001b[0m     filtered_tb \u001b[38;5;241m=\u001b[39m _process_traceback_frames(e\u001b[38;5;241m.\u001b[39m__traceback__)\n\u001b[0;32m     68\u001b[0m     \u001b[38;5;66;03m# To get the full stack trace, call:\u001b[39;00m\n\u001b[0;32m     69\u001b[0m     \u001b[38;5;66;03m# `tf.debugging.disable_traceback_filtering()`\u001b[39;00m\n\u001b[1;32m---> 70\u001b[0m     \u001b[38;5;28;01mraise\u001b[39;00m e\u001b[38;5;241m.\u001b[39mwith_traceback(filtered_tb) \u001b[38;5;28;01mfrom\u001b[39;00m \u001b[38;5;28mNone\u001b[39m\n\u001b[0;32m     71\u001b[0m \u001b[38;5;28;01mfinally\u001b[39;00m:\n\u001b[0;32m     72\u001b[0m     \u001b[38;5;28;01mdel\u001b[39;00m filtered_tb\n",
      "File \u001b[1;32m~\\anaconda3\\envs\\MI-333\\lib\\site-packages\\keras\\engine\\data_adapter.py:1851\u001b[0m, in \u001b[0;36m_check_data_cardinality\u001b[1;34m(data)\u001b[0m\n\u001b[0;32m   1844\u001b[0m     msg \u001b[38;5;241m+\u001b[39m\u001b[38;5;241m=\u001b[39m \u001b[38;5;124m\"\u001b[39m\u001b[38;5;124m  \u001b[39m\u001b[38;5;132;01m{}\u001b[39;00m\u001b[38;5;124m sizes: \u001b[39m\u001b[38;5;132;01m{}\u001b[39;00m\u001b[38;5;130;01m\\n\u001b[39;00m\u001b[38;5;124m\"\u001b[39m\u001b[38;5;241m.\u001b[39mformat(\n\u001b[0;32m   1845\u001b[0m         label,\n\u001b[0;32m   1846\u001b[0m         \u001b[38;5;124m\"\u001b[39m\u001b[38;5;124m, \u001b[39m\u001b[38;5;124m\"\u001b[39m\u001b[38;5;241m.\u001b[39mjoin(\n\u001b[0;32m   1847\u001b[0m             \u001b[38;5;28mstr\u001b[39m(i\u001b[38;5;241m.\u001b[39mshape[\u001b[38;5;241m0\u001b[39m]) \u001b[38;5;28;01mfor\u001b[39;00m i \u001b[38;5;129;01min\u001b[39;00m tf\u001b[38;5;241m.\u001b[39mnest\u001b[38;5;241m.\u001b[39mflatten(single_data)\n\u001b[0;32m   1848\u001b[0m         ),\n\u001b[0;32m   1849\u001b[0m     )\n\u001b[0;32m   1850\u001b[0m msg \u001b[38;5;241m+\u001b[39m\u001b[38;5;241m=\u001b[39m \u001b[38;5;124m\"\u001b[39m\u001b[38;5;124mMake sure all arrays contain the same number of samples.\u001b[39m\u001b[38;5;124m\"\u001b[39m\n\u001b[1;32m-> 1851\u001b[0m \u001b[38;5;28;01mraise\u001b[39;00m \u001b[38;5;167;01mValueError\u001b[39;00m(msg)\n",
      "\u001b[1;31mValueError\u001b[0m: Data cardinality is ambiguous:\n  x sizes: 0, 0\n  y sizes: 1\nMake sure all arrays contain the same number of samples."
     ]
    }
   ],
   "source": [
    "opt = tf.keras.optimizers.SGD(\n",
    "            momentum=0.9, nesterov=False, name='SGD'\n",
    "            )\n",
    "\n",
    "model.compile(optimizer=opt, loss=scoreMap_loss, metrics=['accuracy'])\n",
    "\n",
    "\n",
    "batch_size = 1\n",
    "epochs = 1\n",
    "model.fit([x_images, z_images], [labels], batch_size=batch_size, epochs=epochs)\n"
   ]
  },
  {
   "cell_type": "code",
   "execution_count": null,
   "id": "13087fac",
   "metadata": {},
   "outputs": [],
   "source": []
  },
  {
   "cell_type": "code",
   "execution_count": null,
   "id": "c98b9270",
   "metadata": {},
   "outputs": [],
   "source": []
  }
 ],
 "metadata": {
  "kernelspec": {
   "display_name": "Python 3 (ipykernel)",
   "language": "python",
   "name": "python3"
  },
  "language_info": {
   "codemirror_mode": {
    "name": "ipython",
    "version": 3
   },
   "file_extension": ".py",
   "mimetype": "text/x-python",
   "name": "python",
   "nbconvert_exporter": "python",
   "pygments_lexer": "ipython3",
   "version": "3.10.8"
  }
 },
 "nbformat": 4,
 "nbformat_minor": 5
}
