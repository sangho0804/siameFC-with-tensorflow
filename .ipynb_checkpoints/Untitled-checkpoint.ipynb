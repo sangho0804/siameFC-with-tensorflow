{
 "cells": [
  {
   "cell_type": "code",
   "execution_count": 31,
   "id": "0d2ce8b2",
   "metadata": {},
   "outputs": [],
   "source": [
    "import tensorflow as tf\n",
    "import loss.custom_loss as scoreMap_loss\n",
    "import siameFC.SiameFC as siameFc\n",
    "import matplotlib.pyplot as plt\n",
    "import pandas as pd\n",
    "import numpy as np\n",
    "import warnings\n",
    "warnings.simplefilter(action='ignore', category=Warning)\n",
    "\n",
    "from data_processing.data import make_label, load_images"
   ]
  },
  {
   "cell_type": "code",
   "execution_count": 32,
   "id": "b375b1c3",
   "metadata": {},
   "outputs": [],
   "source": [
    "Z_SHAPE = (127, 127, 3)\n",
    "X_SHAPE = (255, 255, 3)\n",
    "LABEL = (17, 17, 1)\n",
    "\n",
    "x_dir = \"./sample/\"\n",
    "z_dir = \"./sample/\"\n",
    "x_images = load_images(x_dir, 255, 0, \".x.jpg\", normalize_images=True)\n",
    "z_images = load_images(z_dir, 127, 0, \".z.jpg\", normalize_images=True)"
   ]
  },
  {
   "cell_type": "code",
   "execution_count": 34,
   "id": "b942d3be",
   "metadata": {},
   "outputs": [
    {
     "ename": "ValueError",
     "evalue": "Attempt to convert a value (<keras.layers.pooling.max_pooling2d.MaxPooling2D object at 0x000001685D38BAF0>) with an unsupported type (<class 'keras.layers.pooling.max_pooling2d.MaxPooling2D'>) to a Tensor.",
     "output_type": "error",
     "traceback": [
      "\u001b[1;31m---------------------------------------------------------------------------\u001b[0m",
      "\u001b[1;31mValueError\u001b[0m                                Traceback (most recent call last)",
      "Cell \u001b[1;32mIn[34], line 10\u001b[0m\n\u001b[0;32m      7\u001b[0m labels \u001b[38;5;241m=\u001b[39m np\u001b[38;5;241m.\u001b[39mempty((data_size,) \u001b[38;5;241m+\u001b[39m label\u001b[38;5;241m.\u001b[39mshape)\n\u001b[0;32m      8\u001b[0m labels[:] \u001b[38;5;241m=\u001b[39m label\n\u001b[1;32m---> 10\u001b[0m model \u001b[38;5;241m=\u001b[39m \u001b[43msiameFc\u001b[49m\u001b[38;5;241;43m.\u001b[39;49m\u001b[43msiameFc_model\u001b[49m\u001b[43m(\u001b[49m\u001b[43mX_SHAPE\u001b[49m\u001b[43m,\u001b[49m\u001b[43mZ_SHAPE\u001b[49m\u001b[43m)\u001b[49m\n\u001b[0;32m     11\u001b[0m model\u001b[38;5;241m.\u001b[39msummary()\n",
      "File \u001b[1;32m~\\Desktop\\work_space\\vscode\\siameFC-with-tensorflow\\siameFC\\SiameFC.py:34\u001b[0m, in \u001b[0;36msiameFc_model\u001b[1;34m(x_shape, z_shape)\u001b[0m\n\u001b[0;32m     31\u001b[0m search \u001b[38;5;241m=\u001b[39m Input(shape\u001b[38;5;241m=\u001b[39mx_shape)\n\u001b[0;32m     32\u001b[0m score_map \u001b[38;5;241m=\u001b[39m Input(shape\u001b[38;5;241m=\u001b[39m(\u001b[38;5;241m17\u001b[39m,\u001b[38;5;241m17\u001b[39m))\n\u001b[1;32m---> 34\u001b[0m embedding_exemplar \u001b[38;5;241m=\u001b[39m \u001b[43mbackbone\u001b[49m\u001b[38;5;241;43m.\u001b[39;49m\u001b[43mconvolutional_alexnet\u001b[49m\u001b[43m(\u001b[49m\u001b[43mexemplar\u001b[49m\u001b[43m)\u001b[49m\n\u001b[0;32m     35\u001b[0m embedding_search \u001b[38;5;241m=\u001b[39m backbone\u001b[38;5;241m.\u001b[39mconvolutional_alexnet(search)\n\u001b[0;32m     37\u001b[0m score_map \u001b[38;5;241m=\u001b[39m x_corr_layer()([embedding_search, embedding_exemplar])\n",
      "File \u001b[1;32m~\\Desktop\\work_space\\vscode\\siameFC-with-tensorflow\\backbone\\convolutional_alexnet.py:34\u001b[0m, in \u001b[0;36mconvolutional_alexnet\u001b[1;34m(input)\u001b[0m\n\u001b[0;32m     31\u001b[0m net \u001b[38;5;241m=\u001b[39m MaxPool2D(pool_size\u001b[38;5;241m=\u001b[39m\u001b[38;5;241m3\u001b[39m, strides\u001b[38;5;241m=\u001b[39m\u001b[38;5;241m2\u001b[39m, padding\u001b[38;5;241m=\u001b[39m\u001b[38;5;124m'\u001b[39m\u001b[38;5;124mvalid\u001b[39m\u001b[38;5;124m'\u001b[39m)\n\u001b[0;32m     33\u001b[0m \u001b[38;5;66;03m#layer 2\u001b[39;00m\n\u001b[1;32m---> 34\u001b[0m b1, b2 \u001b[38;5;241m=\u001b[39m \u001b[43mtf\u001b[49m\u001b[38;5;241;43m.\u001b[39;49m\u001b[43msplit\u001b[49m\u001b[43m(\u001b[49m\u001b[43mnet\u001b[49m\u001b[43m,\u001b[49m\u001b[43m \u001b[49m\u001b[38;5;241;43m2\u001b[39;49m\u001b[43m,\u001b[49m\u001b[43m \u001b[49m\u001b[38;5;241;43m3\u001b[39;49m\u001b[43m)\u001b[49m\n\u001b[0;32m     35\u001b[0m b1 \u001b[38;5;241m=\u001b[39m AlexConv2d(b1, \u001b[38;5;241m128\u001b[39m, \u001b[38;5;241m5\u001b[39m, \u001b[38;5;241m1\u001b[39m, \u001b[38;5;124m'\u001b[39m\u001b[38;5;124mconv2\u001b[39m\u001b[38;5;124m'\u001b[39m)\n\u001b[0;32m     36\u001b[0m b2 \u001b[38;5;241m=\u001b[39m AlexConv2d(b2, \u001b[38;5;241m128\u001b[39m, \u001b[38;5;241m5\u001b[39m, \u001b[38;5;241m1\u001b[39m, \u001b[38;5;124m'\u001b[39m\u001b[38;5;124mconv2\u001b[39m\u001b[38;5;124m'\u001b[39m)\n",
      "File \u001b[1;32m~\\anaconda3\\envs\\MI-333\\lib\\site-packages\\tensorflow\\python\\util\\traceback_utils.py:153\u001b[0m, in \u001b[0;36mfilter_traceback.<locals>.error_handler\u001b[1;34m(*args, **kwargs)\u001b[0m\n\u001b[0;32m    151\u001b[0m \u001b[38;5;28;01mexcept\u001b[39;00m \u001b[38;5;167;01mException\u001b[39;00m \u001b[38;5;28;01mas\u001b[39;00m e:\n\u001b[0;32m    152\u001b[0m   filtered_tb \u001b[38;5;241m=\u001b[39m _process_traceback_frames(e\u001b[38;5;241m.\u001b[39m__traceback__)\n\u001b[1;32m--> 153\u001b[0m   \u001b[38;5;28;01mraise\u001b[39;00m e\u001b[38;5;241m.\u001b[39mwith_traceback(filtered_tb) \u001b[38;5;28;01mfrom\u001b[39;00m \u001b[38;5;28mNone\u001b[39m\n\u001b[0;32m    154\u001b[0m \u001b[38;5;28;01mfinally\u001b[39;00m:\n\u001b[0;32m    155\u001b[0m   \u001b[38;5;28;01mdel\u001b[39;00m filtered_tb\n",
      "File \u001b[1;32m~\\anaconda3\\envs\\MI-333\\lib\\site-packages\\tensorflow\\python\\framework\\constant_op.py:102\u001b[0m, in \u001b[0;36mconvert_to_eager_tensor\u001b[1;34m(value, ctx, dtype)\u001b[0m\n\u001b[0;32m    100\u001b[0m     dtype \u001b[38;5;241m=\u001b[39m dtypes\u001b[38;5;241m.\u001b[39mas_dtype(dtype)\u001b[38;5;241m.\u001b[39mas_datatype_enum\n\u001b[0;32m    101\u001b[0m ctx\u001b[38;5;241m.\u001b[39mensure_initialized()\n\u001b[1;32m--> 102\u001b[0m \u001b[38;5;28;01mreturn\u001b[39;00m \u001b[43mops\u001b[49m\u001b[38;5;241;43m.\u001b[39;49m\u001b[43mEagerTensor\u001b[49m\u001b[43m(\u001b[49m\u001b[43mvalue\u001b[49m\u001b[43m,\u001b[49m\u001b[43m \u001b[49m\u001b[43mctx\u001b[49m\u001b[38;5;241;43m.\u001b[39;49m\u001b[43mdevice_name\u001b[49m\u001b[43m,\u001b[49m\u001b[43m \u001b[49m\u001b[43mdtype\u001b[49m\u001b[43m)\u001b[49m\n",
      "\u001b[1;31mValueError\u001b[0m: Attempt to convert a value (<keras.layers.pooling.max_pooling2d.MaxPooling2D object at 0x000001685D38BAF0>) with an unsupported type (<class 'keras.layers.pooling.max_pooling2d.MaxPooling2D'>) to a Tensor."
     ]
    }
   ],
   "source": [
    "# params\n",
    "positive_label_pixel_radius = 16 # distance from center of target patch still considered a 'positive' match\n",
    "response_size = 17\n",
    "response_stride = 6.0\n",
    "data_size = 1\n",
    "label = make_label(response_size, positive_label_pixel_radius / response_stride)\n",
    "labels = np.empty((data_size,) + label.shape)\n",
    "labels[:] = label\n",
    "\n",
    "model = siameFc.siameFc_model(X_SHAPE,Z_SHAPE)\n",
    "model.summary()\n",
    "\n"
   ]
  },
  {
   "cell_type": "code",
   "execution_count": null,
   "id": "cc3bfc8a",
   "metadata": {},
   "outputs": [],
   "source": []
  }
 ],
 "metadata": {
  "kernelspec": {
   "display_name": "Python 3 (ipykernel)",
   "language": "python",
   "name": "python3"
  },
  "language_info": {
   "codemirror_mode": {
    "name": "ipython",
    "version": 3
   },
   "file_extension": ".py",
   "mimetype": "text/x-python",
   "name": "python",
   "nbconvert_exporter": "python",
   "pygments_lexer": "ipython3",
   "version": "3.10.8"
  }
 },
 "nbformat": 4,
 "nbformat_minor": 5
}
