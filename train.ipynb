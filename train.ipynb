{
 "cells": [
  {
   "cell_type": "code",
   "execution_count": null,
   "id": "0d2ce8b2",
   "metadata": {},
   "outputs": [],
   "source": [
    "import tensorflow as tf\n",
    "import custom_loss.loss_of_scoreMap as scoreMap_loss\n",
    "import siameFC.SiameFC as siameFc\n",
    "import matplotlib.pyplot as plt\n",
    "import pandas as pd\n",
    "import numpy as np\n",
    "import warnings\n",
    "warnings.simplefilter(action='ignore', category=Warning)\n",
    "\n",
    "from data_processing.data import make_label, load_images"
   ]
  },
  {
   "cell_type": "code",
   "execution_count": null,
   "id": "b375b1c3",
   "metadata": {},
   "outputs": [],
   "source": [
    "Z_SHAPE = (127, 127, 3)\n",
    "X_SHAPE = (255, 255, 3)\n",
    "LABEL = (17, 17, 1)\n",
    "\n",
    "x_dir = \"./sample/\"\n",
    "z_dir = \"./sample/\"\n",
    "x_images = load_images(x_dir, 255, 0, \".x.jpg\", normalize_images=True)\n",
    "z_images = load_images(z_dir, 127, 0, \".z.jpg\", normalize_images=True)"
   ]
  },
  {
   "cell_type": "code",
   "execution_count": null,
   "id": "b942d3be",
   "metadata": {},
   "outputs": [],
   "source": [
    "radius = 16 #hyperparameter\n",
    "\n",
    "response_size = 17 \n",
    "response_stride = 8.0 #end siride = 9\n",
    "\n",
    "data_size = 1\n",
    "\n",
    "label = make_label(response_size, radius / response_stride)\n",
    "labels = np.empty((data_size,) + label.shape)\n",
    "labels[:] = label\n",
    "\n",
    "\n",
    "model = siameFc.siameFc_model(X_SHAPE,Z_SHAPE)\n",
    "\n",
    "\n"
   ]
  },
  {
   "cell_type": "code",
   "execution_count": null,
   "id": "aeac65be",
   "metadata": {},
   "outputs": [],
   "source": [
    "print(model.summary())"
   ]
  },
  {
   "cell_type": "code",
   "execution_count": null,
   "id": "cc3bfc8a",
   "metadata": {},
   "outputs": [],
   "source": [
    "opt = tf.keras.optimizers.SGD(\n",
    "            momentum=0.9, nesterov=False, name='SGD'\n",
    "            )\n",
    "\n",
    "model.compile(optimizer=opt, loss=scoreMap_loss, metrics=['accuracy'])\n",
    "\n",
    "\n",
    "batch_size = 1\n",
    "epochs = 1\n",
    "model.fit([x_images, z_images], [labels], batch_size=batch_size, epochs=epochs)\n"
   ]
  },
  {
   "cell_type": "code",
   "execution_count": null,
   "id": "13087fac",
   "metadata": {},
   "outputs": [],
   "source": []
  },
  {
   "cell_type": "code",
   "execution_count": null,
   "id": "c98b9270",
   "metadata": {},
   "outputs": [],
   "source": []
  }
 ],
 "metadata": {
  "kernelspec": {
   "display_name": "Python 3 (ipykernel)",
   "language": "python",
   "name": "python3"
  },
  "language_info": {
   "codemirror_mode": {
    "name": "ipython",
    "version": 3
   },
   "file_extension": ".py",
   "mimetype": "text/x-python",
   "name": "python",
   "nbconvert_exporter": "python",
   "pygments_lexer": "ipython3",
   "version": "3.10.8"
  }
 },
 "nbformat": 4,
 "nbformat_minor": 5
}
