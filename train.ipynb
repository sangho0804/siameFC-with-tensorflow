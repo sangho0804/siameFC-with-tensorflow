{
 "cells": [
  {
   "cell_type": "code",
   "execution_count": 1,
   "id": "0d2ce8b2",
   "metadata": {},
   "outputs": [],
   "source": [
    "import tensorflow as tf\n",
    "import custom_loss.loss_of_scoreMap as scoreMap_loss\n",
    "import siameFC.SiameFC as siameFc\n",
    "import matplotlib.pyplot as plt\n",
    "import pandas as pd\n",
    "import numpy as np\n",
    "import warnings\n",
    "warnings.simplefilter(action='ignore', category=Warning)\n",
    "\n",
    "from data_processing.data import make_label, load_images"
   ]
  },
  {
   "cell_type": "code",
   "execution_count": 2,
   "id": "b375b1c3",
   "metadata": {},
   "outputs": [],
   "source": [
    "Z_SHAPE = (127, 127, 3)\n",
    "X_SHAPE = (255, 255, 3)\n",
    "LABEL = (17, 17, 1)\n",
    "\n",
    "x_dir = \"./sample/\"\n",
    "z_dir = \"./sample/\"\n",
    "x_images = load_images(x_dir, 255, 0, \".x.jpg\")\n",
    "z_images = load_images(z_dir, 127, 0, \".z.jpg\")"
   ]
  },
  {
   "cell_type": "code",
   "execution_count": 3,
   "id": "b942d3be",
   "metadata": {},
   "outputs": [
    {
     "name": "stdout",
     "output_type": "stream",
     "text": [
      "WARNING:tensorflow:From C:\\Users\\sangho\\anaconda3\\envs\\MI-333\\lib\\site-packages\\tensorflow\\python\\util\\deprecation.py:629: calling map_fn_v2 (from tensorflow.python.ops.map_fn) with dtype is deprecated and will be removed in a future version.\n",
      "Instructions for updating:\n",
      "Use fn_output_signature instead\n"
     ]
    }
   ],
   "source": [
    "radius = 16 #hyperparameter\n",
    "\n",
    "response_size = 17 \n",
    "response_stride = 8.0 #end siride = 9\n",
    "\n",
    "data_size = 1\n",
    "\n",
    "label = make_label(response_size, radius / response_stride)\n",
    "labels = np.empty((data_size,) + label.shape)\n",
    "labels[:] = label\n",
    "\n",
    "\n",
    "model = siameFc.siameFc_model(X_SHAPE,Z_SHAPE)\n",
    "\n",
    "\n"
   ]
  },
  {
   "cell_type": "code",
   "execution_count": 4,
   "id": "aeac65be",
   "metadata": {},
   "outputs": [
    {
     "name": "stdout",
     "output_type": "stream",
     "text": [
      "Model: \"model\"\n",
      "__________________________________________________________________________________________________\n",
      " Layer (type)                   Output Shape         Param #     Connected to                     \n",
      "==================================================================================================\n",
      " input_2 (InputLayer)           [(None, 255, 255, 3  0           []                               \n",
      "                                )]                                                                \n",
      "                                                                                                  \n",
      " input_1 (InputLayer)           [(None, 127, 127, 3  0           []                               \n",
      "                                )]                                                                \n",
      "                                                                                                  \n",
      " conv2d_5 (Conv2D)              (None, 123, 123, 96  34944       ['input_2[0][0]']                \n",
      "                                )                                                                 \n",
      "                                                                                                  \n",
      " conv2d (Conv2D)                (None, 59, 59, 96)   34944       ['input_1[0][0]']                \n",
      "                                                                                                  \n",
      " batch_normalization_5 (BatchNo  (None, 123, 123, 96  384        ['conv2d_5[0][0]']               \n",
      " rmalization)                   )                                                                 \n",
      "                                                                                                  \n",
      " batch_normalization (BatchNorm  (None, 59, 59, 96)  384         ['conv2d[0][0]']                 \n",
      " alization)                                                                                       \n",
      "                                                                                                  \n",
      " re_lu_4 (ReLU)                 (None, 123, 123, 96  0           ['batch_normalization_5[0][0]']  \n",
      "                                )                                                                 \n",
      "                                                                                                  \n",
      " re_lu (ReLU)                   (None, 59, 59, 96)   0           ['batch_normalization[0][0]']    \n",
      "                                                                                                  \n",
      " max_pooling2d_2 (MaxPooling2D)  (None, 61, 61, 96)  0           ['re_lu_4[0][0]']                \n",
      "                                                                                                  \n",
      " max_pooling2d (MaxPooling2D)   (None, 29, 29, 96)   0           ['re_lu[0][0]']                  \n",
      "                                                                                                  \n",
      " conv2d_6 (Conv2D)              (None, 57, 57, 256)  307456      ['max_pooling2d_2[0][0]']        \n",
      "                                                                                                  \n",
      " conv2d_1 (Conv2D)              (None, 25, 25, 256)  307456      ['max_pooling2d[0][0]']          \n",
      "                                                                                                  \n",
      " batch_normalization_6 (BatchNo  (None, 57, 57, 256)  1024       ['conv2d_6[0][0]']               \n",
      " rmalization)                                                                                     \n",
      "                                                                                                  \n",
      " batch_normalization_1 (BatchNo  (None, 25, 25, 256)  1024       ['conv2d_1[0][0]']               \n",
      " rmalization)                                                                                     \n",
      "                                                                                                  \n",
      " re_lu_5 (ReLU)                 (None, 57, 57, 256)  0           ['batch_normalization_6[0][0]']  \n",
      "                                                                                                  \n",
      " re_lu_1 (ReLU)                 (None, 25, 25, 256)  0           ['batch_normalization_1[0][0]']  \n",
      "                                                                                                  \n",
      " max_pooling2d_3 (MaxPooling2D)  (None, 28, 28, 256)  0          ['re_lu_5[0][0]']                \n",
      "                                                                                                  \n",
      " max_pooling2d_1 (MaxPooling2D)  (None, 12, 12, 256)  0          ['re_lu_1[0][0]']                \n",
      "                                                                                                  \n",
      " conv2d_7 (Conv2D)              (None, 26, 26, 384)  442752      ['max_pooling2d_3[0][0]']        \n",
      "                                                                                                  \n",
      " conv2d_2 (Conv2D)              (None, 10, 10, 384)  442752      ['max_pooling2d_1[0][0]']        \n",
      "                                                                                                  \n",
      " batch_normalization_7 (BatchNo  (None, 26, 26, 384)  1536       ['conv2d_7[0][0]']               \n",
      " rmalization)                                                                                     \n",
      "                                                                                                  \n",
      " batch_normalization_2 (BatchNo  (None, 10, 10, 384)  1536       ['conv2d_2[0][0]']               \n",
      " rmalization)                                                                                     \n",
      "                                                                                                  \n",
      " re_lu_6 (ReLU)                 (None, 26, 26, 384)  0           ['batch_normalization_7[0][0]']  \n",
      "                                                                                                  \n",
      " re_lu_2 (ReLU)                 (None, 10, 10, 384)  0           ['batch_normalization_2[0][0]']  \n",
      "                                                                                                  \n",
      " conv2d_8 (Conv2D)              (None, 24, 24, 384)  663936      ['re_lu_6[0][0]']                \n",
      "                                                                                                  \n",
      " conv2d_3 (Conv2D)              (None, 8, 8, 384)    663936      ['re_lu_2[0][0]']                \n",
      "                                                                                                  \n",
      " batch_normalization_8 (BatchNo  (None, 24, 24, 384)  1536       ['conv2d_8[0][0]']               \n",
      " rmalization)                                                                                     \n",
      "                                                                                                  \n",
      " batch_normalization_3 (BatchNo  (None, 8, 8, 384)   1536        ['conv2d_3[0][0]']               \n",
      " rmalization)                                                                                     \n",
      "                                                                                                  \n",
      " re_lu_7 (ReLU)                 (None, 24, 24, 384)  0           ['batch_normalization_8[0][0]']  \n",
      "                                                                                                  \n",
      " re_lu_3 (ReLU)                 (None, 8, 8, 384)    0           ['batch_normalization_3[0][0]']  \n",
      "                                                                                                  \n",
      " conv2d_9 (Conv2D)              (None, 22, 22, 256)  442624      ['re_lu_7[0][0]']                \n",
      "                                                                                                  \n",
      " conv2d_4 (Conv2D)              (None, 6, 6, 256)    442624      ['re_lu_3[0][0]']                \n",
      "                                                                                                  \n",
      " batch_normalization_9 (BatchNo  (None, 22, 22, 256)  1024       ['conv2d_9[0][0]']               \n",
      " rmalization)                                                                                     \n",
      "                                                                                                  \n",
      " batch_normalization_4 (BatchNo  (None, 6, 6, 256)   1024        ['conv2d_4[0][0]']               \n"
     ]
    },
    {
     "name": "stdout",
     "output_type": "stream",
     "text": [
      " rmalization)                                                                                     \n",
      "                                                                                                  \n",
      " lambda (Lambda)                (None, 1, 17, 17, 1  0           ['batch_normalization_9[0][0]',  \n",
      "                                )                                 'batch_normalization_4[0][0]']  \n",
      "                                                                                                  \n",
      "==================================================================================================\n",
      "Total params: 3,794,432\n",
      "Trainable params: 3,788,928\n",
      "Non-trainable params: 5,504\n",
      "__________________________________________________________________________________________________\n",
      "None\n"
     ]
    }
   ],
   "source": [
    "print(model.summary())"
   ]
  },
  {
   "cell_type": "code",
   "execution_count": null,
   "id": "cc3bfc8a",
   "metadata": {},
   "outputs": [],
   "source": [
    "opt = tf.keras.optimizers.SGD(\n",
    "            momentum=0.9, nesterov=False, name='SGD'\n",
    "            )\n",
    "\n",
    "model.compile(optimizer=opt, loss=scoreMap_loss, metrics=['accuracy'])\n",
    "\n",
    "\n",
    "batch_size = 1\n",
    "epochs = 1\n",
    "model.fit([x_images, z_images], [labels], batch_size=batch_size, epochs=epochs)\n"
   ]
  },
  {
   "cell_type": "code",
   "execution_count": null,
   "id": "13087fac",
   "metadata": {},
   "outputs": [],
   "source": []
  },
  {
   "cell_type": "code",
   "execution_count": null,
   "id": "c98b9270",
   "metadata": {},
   "outputs": [],
   "source": []
  }
 ],
 "metadata": {
  "kernelspec": {
   "display_name": "Python 3 (ipykernel)",
   "language": "python",
   "name": "python3"
  },
  "language_info": {
   "codemirror_mode": {
    "name": "ipython",
    "version": 3
   },
   "file_extension": ".py",
   "mimetype": "text/x-python",
   "name": "python",
   "nbconvert_exporter": "python",
   "pygments_lexer": "ipython3",
   "version": "3.10.8 | packaged by conda-forge | (main, Nov 24 2022, 14:07:00) [MSC v.1916 64 bit (AMD64)]"
  },
  "vscode": {
   "interpreter": {
    "hash": "3748a7dc04aec1fad07c483fbf6f0720e80cc6fe6731a2f44aaf859a59c17378"
   }
  }
 },
 "nbformat": 4,
 "nbformat_minor": 5
}
